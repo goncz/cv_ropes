{
 "cells": [
  {
   "cell_type": "code",
   "execution_count": null,
   "metadata": {},
   "outputs": [],
   "source": [
    "import tensorflow as tf\r\n",
    "import numpy as np\r\n",
    "import matplotlib.pyplot as plt\r\n",
    "import os\r\n",
    "import PIL\r\n",
    "import tensorflow as tf\r\n",
    "from tensorflow import keras\r\n",
    "from tensorflow.keras import layers\r\n",
    "from tensorflow.keras.models import Sequential\r\n",
    "import shutil\r\n",
    "import re\r\n",
    "import pathlib\r\n",
    "\r\n",
    "print(np.__version__)\r\n",
    "print(tf.__version__)"
   ]
  }
 ],
 "metadata": {
  "interpreter": {
   "hash": "289ea8d71004d593d0d281835dba6e38ec1336b33299cb0bd7311ebad35d7495"
  },
  "kernelspec": {
   "display_name": "Python 3.9.5 64-bit ('cv_ropes': conda)",
   "name": "python3"
  },
  "language_info": {
   "name": "python",
   "version": ""
  },
  "orig_nbformat": 4
 },
 "nbformat": 4,
 "nbformat_minor": 2
}